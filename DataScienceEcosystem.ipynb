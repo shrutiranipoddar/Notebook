{
 "cells": [
  {
   "cell_type": "code",
   "execution_count": null,
   "id": "1b38db2b-d189-4f8b-ba6e-33cc8444da94",
   "metadata": {},
   "outputs": [],
   "source": [
    "\n"
   ]
  },
  {
   "cell_type": "markdown",
   "id": "e63606e4-b91d-4bf0-8932-59631dc1492e",
   "metadata": {},
   "source": [
    "### Data Science Tools and Ecosystem"
   ]
  },
  {
   "cell_type": "markdown",
   "id": "caf27ec1-8502-4a30-b8a0-bb1d6500262e",
   "metadata": {},
   "source": [
    "Some of the popular languages that Data Scientists use are :\n",
    "1. Python\n",
    "2. R\n",
    "3. SQL"
   ]
  },
  {
   "cell_type": "markdown",
   "id": "9d1177e0-a773-44c6-a803-045d4f5cd4d4",
   "metadata": {},
   "source": [
    "In this notebook, Data Science Tools and Ecosystem are summarized"
   ]
  },
  {
   "cell_type": "markdown",
   "id": "f705db36-ef1d-43f0-befb-178281c2d105",
   "metadata": {},
   "source": [
    "**Objectives:**\n",
    "\n",
    "- List popular languages for Data Science  \n",
    "- Identify commonly used data science libraries  \n",
    "- Create markdown cells in Jupyter Notebook  \n",
    "- Format content using markdown syntax  \n",
    "- Understand basic Git and GitHub functionalities  \n"
   ]
  },
  {
   "cell_type": "markdown",
   "id": "9c028dfb-c15c-4fc2-9ea8-f4324d04ce42",
   "metadata": {},
   "source": [
    "Some of the commonly used libraries used by Data Scientists include:\n",
    "\n",
    "1. NumPy\n",
    "2. pandas\n",
    "3. Matplotlib\n",
    "4. scikit-learn\n",
    "5. TensorFlow\n"
   ]
  },
  {
   "cell_type": "markdown",
   "id": "0c494c5b-07f9-4770-b1d8-8bcb12a60543",
   "metadata": {},
   "source": [
    "| Data Science Tools       |\n",
    "|--------------------------|\n",
    "| Jupyter Notebook         |\n",
    "| RStudio                  |\n",
    "| Apache Zeppelin          |\n"
   ]
  },
  {
   "cell_type": "markdown",
   "id": "c5e7aabd-32a3-4705-b860-1abf41cba9c7",
   "metadata": {},
   "source": [
    "### Below are a few examples of evaluating arithmetic expressions in Python.\n"
   ]
  },
  {
   "cell_type": "code",
   "execution_count": 10,
   "id": "273848ee-65d4-48fc-956f-99881f5db930",
   "metadata": {},
   "outputs": [
    {
     "data": {
      "text/plain": [
       "17"
      ]
     },
     "execution_count": 10,
     "metadata": {},
     "output_type": "execute_result"
    }
   ],
   "source": [
    "(3*4)+5"
   ]
  },
  {
   "cell_type": "code",
   "execution_count": 12,
   "id": "e5e7b17f-2760-4742-baae-57cae2554ca2",
   "metadata": {},
   "outputs": [
    {
     "data": {
      "text/plain": [
       "3.3333333333333335"
      ]
     },
     "execution_count": 12,
     "metadata": {},
     "output_type": "execute_result"
    }
   ],
   "source": [
    "200 /60"
   ]
  },
  {
   "cell_type": "markdown",
   "id": "9e8cdb28-aa9f-448d-8f4b-a30cc6155e39",
   "metadata": {},
   "source": [
    "## Author\n",
    "\n",
    "Shruti Rani Poddar\n"
   ]
  },
  {
   "cell_type": "code",
   "execution_count": null,
   "id": "57da8a06-e677-4cea-916c-2bc1dbb741a1",
   "metadata": {},
   "outputs": [],
   "source": []
  }
 ],
 "metadata": {
  "kernelspec": {
   "display_name": "Python [conda env:env]",
   "language": "python",
   "name": "conda-env-env-py"
  },
  "language_info": {
   "codemirror_mode": {
    "name": "ipython",
    "version": 3
   },
   "file_extension": ".py",
   "mimetype": "text/x-python",
   "name": "python",
   "nbconvert_exporter": "python",
   "pygments_lexer": "ipython3",
   "version": "3.13.2"
  }
 },
 "nbformat": 4,
 "nbformat_minor": 5
}
